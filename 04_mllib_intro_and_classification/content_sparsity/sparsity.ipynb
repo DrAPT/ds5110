{
 "cells": [
  {
   "cell_type": "markdown",
   "metadata": {},
   "source": [
    "<img src=\"uva_seal.png\">  "
   ]
  },
  {
   "cell_type": "markdown",
   "metadata": {},
   "source": [
    "## Sparsity\n",
    "\n",
    "### University of Virginia\n",
    "### DS 5110: Big Data Systems\n",
    "### Last Updated: February 12, 2023\n",
    "\n",
    "---  \n",
    "\n",
    "### SOURCES \n",
    "\n",
    "1. Add source\n",
    "\n",
    "### OBJECTIVES\n",
    "1. Introduction to sparsity\n",
    "\n",
    "\n",
    "### CONCEPTS AND FUNCTIONS\n",
    "- SparseVector\n",
    "- SparseMatrix\n",
    "\n",
    "---  "
   ]
  },
  {
   "cell_type": "markdown",
   "metadata": {},
   "source": [
    "### 1. Introduction to Sparsity\n",
    "\n",
    "A *sparse* object contains mostly zeros. The opposite is *dense*.\n",
    "\n",
    "Sparse vectors and matrices come up a lot in ML. \n",
    "\n",
    "Examples:\n",
    "\n",
    "- An interaction matrix containing Amazon customers on rows, products on columns, \n",
    "and elements representing the number of times each user purchased each item.\n",
    "\n",
    "- A term-document matrix containing documents on rows, words in a vocabulary on columns,\n",
    "and elements representing the number of times each word appears in each document.\n",
    "\n",
    "In each case, most elements will be zero.\n",
    "\n",
    "Spark takes advantage of sparsity whenever possible.\n",
    "\n",
    "Sparse vectors and matrices assume that elements have value zero unless otherwise stated."
   ]
  },
  {
   "cell_type": "markdown",
   "metadata": {},
   "source": [
    "### 2. Saving on Storage and Compute\n",
    "\n",
    "**Storage**  \n",
    "If we store only what's nonzero, the required storage requirement can be much lower.  \n",
    "\n",
    "Here is an example of a Sparse Vector in Spark:\n",
    "\n",
    "```\n",
    "SparseVector(10000, {0: 1.0, 1162: 3.0})\n",
    "```\n",
    "\n",
    "It stores three pieces of information:\n",
    "\n",
    "- vector length (10000 in this case)\n",
    "- positions of non-zero elements (0 and 1162 in this case)\n",
    "- values of non-zero elements (1 and 3 in this case)\n",
    "\n",
    "Also note that non-zero positions and values must be associated in some way.  \n",
    "\n",
    "Here they are saved as key : value pairs.  \n",
    "- position 0 holds value 1. position 1162 holds value 3.\n",
    "\n",
    "It is also common to provide two lists with corresponding elements like this:\n",
    "- [0, 1162]    # locations\n",
    "- [1.0, 3.0]  # values"
   ]
  },
  {
   "cell_type": "markdown",
   "metadata": {},
   "source": [
    "**Compute**\n",
    "\n",
    "We can define and use methods that know how to compute on sparse objects.  \n",
    "\n",
    "This can reduce the number of operations.\n",
    "\n",
    "For example, consider computing the dot product.\n",
    "\n",
    "[insert dense example]\n",
    "\n",
    "[insert sparse example]\n"
   ]
  },
  {
   "cell_type": "markdown",
   "metadata": {},
   "source": [
    "\n",
    "\n"
   ]
  },
  {
   "cell_type": "markdown",
   "metadata": {},
   "source": [
    "**TRY FOR YOURSELF (UNGRADED EXERCISES)**"
   ]
  },
  {
   "cell_type": "markdown",
   "metadata": {},
   "source": [
    "1) "
   ]
  },
  {
   "cell_type": "code",
   "execution_count": null,
   "metadata": {},
   "outputs": [],
   "source": []
  }
 ],
 "metadata": {
  "anaconda-cloud": {},
  "kernelspec": {
   "display_name": "DS5110 Spark 3.3",
   "language": "python",
   "name": "ds5110_spark3.3"
  },
  "language_info": {
   "codemirror_mode": {
    "name": "ipython",
    "version": 3
   },
   "file_extension": ".py",
   "mimetype": "text/x-python",
   "name": "python",
   "nbconvert_exporter": "python",
   "pygments_lexer": "ipython3",
   "version": "3.7.12"
  }
 },
 "nbformat": 4,
 "nbformat_minor": 4
}
