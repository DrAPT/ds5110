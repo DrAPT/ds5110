{
 "cells": [
  {
   "cell_type": "markdown",
   "metadata": {},
   "source": [
    "<img src=\"uva_seal.png\">  "
   ]
  },
  {
   "cell_type": "markdown",
   "metadata": {},
   "source": [
    "## Big Data Systems Foundations\n",
    "\n",
    "### University of Virginia\n",
    "### DS 5110: Big Data Systems\n",
    "### Last Updated: August 6, 2022\n",
    "\n",
    "---  \n",
    "\n",
    "\n",
    "### SOURCES\n",
    "\n",
    "Solution Architect's Handbook\n",
    "\n",
    "### OBJECTIVES\n",
    "- Introduce some building blocks\n",
    "- Provide high-level description of big data systems\n",
    "\n",
    "### CONCEPTS\n",
    "\n",
    "- server\n",
    "- client\n",
    "- database\n",
    "- data warehouse\n",
    "- data lake\n",
    "- front end vs back end\n",
    "- scaling\n",
    "- data ingestion\n",
    "- streaming vs batch\n",
    "- architecture diagrams\n",
    "\n",
    "---"
   ]
  },
  {
   "cell_type": "markdown",
   "metadata": {},
   "source": [
    "### Introducing System Components\n",
    "\n",
    "*server* - hardware or software providing a service to another computer program and its user, also known as the *client*.\n",
    "oftentimes, it is a beefy machine.\n",
    "\n",
    "*database* - organized collection of data, typically stored electronically in a computer system. can be divided into relational and non-relational databases.\n",
    "\n",
    "*data warehouse* - \n",
    "\n",
    "*data lake* - \n",
    "\n",
    "*load balancer* -\n",
    "\n",
    "---"
   ]
  },
  {
   "cell_type": "code",
   "execution_count": null,
   "metadata": {},
   "outputs": [],
   "source": []
  }
 ],
 "metadata": {
  "anaconda-cloud": {},
  "kernelspec": {
   "display_name": "Python 3 (ipykernel)",
   "language": "python",
   "name": "python3"
  },
  "language_info": {
   "codemirror_mode": {
    "name": "ipython",
    "version": 3
   },
   "file_extension": ".py",
   "mimetype": "text/x-python",
   "name": "python",
   "nbconvert_exporter": "python",
   "pygments_lexer": "ipython3",
   "version": "3.9.12"
  }
 },
 "nbformat": 4,
 "nbformat_minor": 4
}
