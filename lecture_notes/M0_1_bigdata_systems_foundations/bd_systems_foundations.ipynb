{
 "cells": [
  {
   "cell_type": "markdown",
   "metadata": {},
   "source": [
    "<img src=\"uva_seal.png\">  "
   ]
  },
  {
   "cell_type": "markdown",
   "metadata": {},
   "source": [
    "## Big Data Systems Foundations\n",
    "\n",
    "### University of Virginia\n",
    "### DS 5110: Big Data Systems\n",
    "### Last Updated: August 6, 2022\n",
    "\n",
    "---  \n",
    "\n",
    "\n",
    "### SOURCES\n",
    "\n",
    "Solution Architect's Handbook. 2nd ed. Saurabh Shrivastava and Neelanjali Srivastav.\n",
    "\n",
    "### OBJECTIVES\n",
    "- Introduce some big data system building blocks\n",
    "- Provide high-level description of big data systems\n",
    "\n",
    "### CONCEPTS\n",
    "\n",
    "- server\n",
    "- client\n",
    "- database\n",
    "- data warehouse\n",
    "- data lake\n",
    "- front end vs back end\n",
    "- scaling\n",
    "- streaming vs batch\n",
    "- architecture diagrams\n",
    "- three-tier architecture\n",
    "- data ingestion\n",
    "\n",
    "---"
   ]
  },
  {
   "cell_type": "markdown",
   "metadata": {
    "tags": []
   },
   "source": [
    "### Introducing System Components\n",
    "\n",
    "Here we briefly describe components that will come up throughout the course:\n",
    "\n",
    "*server* - hardware or software providing a service to another computer program and its user, also known as the *client*.\n",
    "oftentimes, it is a beefy machine. examples: database server, web server.\n",
    "\n",
    "*client* - a **user program** that connects to a server to access a service. an example is a web browser.\n",
    "\n",
    "*database* - **organized collection of data**, typically stored electronically in a computer system. can be divided into relational and non-relational databases.\n",
    "\n",
    "*data warehouse* - central data repository for storing **structured data**. this is generally a collection of relational databases across an org.\n",
    "\n",
    "*data lake* - central data repository for **storing data of any structure**. the benefit is that unstructured and semi-structured data can be stored. \n",
    "\n",
    "*load balancer* - device to distribute a set of tasks over a set of resources (generally servers), to enable scale.\n",
    "\n",
    "*front end* - layer of a system that focuses on **visual aspects**, like the web site. typically UX people work on this part.\n",
    "\n",
    "*back end* - part of the system focused on structure, business logic and data. for example, the database resides in this part. \n",
    "\n",
    "---"
   ]
  },
  {
   "cell_type": "markdown",
   "metadata": {},
   "source": [
    "### Types of Processing\n",
    "\n",
    "A **batch job** is a job run on a finite amount of data. This might consist of computing analytics or making a set of predictions.\n",
    "\n",
    "A **streaming job** runs on data that doesn't end. An example is processing data from a Twitter feed.\n",
    "\n",
    "We will examine each of these jobs in detail. Streaming is harder, since infinite data brings challenges such as what to save and when to report results.\n",
    "\n",
    "---"
   ]
  },
  {
   "cell_type": "markdown",
   "metadata": {},
   "source": [
    "### Architecture Diagrams\n",
    "\n",
    "*Architecture diagrams* illustrate a system at a high level for ease of understanding.\n",
    "\n",
    "They are typically created by solution architects and it is helpful to have familiarity.\n",
    "\n",
    "Below is an example of a *three-tier architecture*, which is very popular. The tiers consist of:\n",
    "\n",
    "1. design layer: front-end web site\n",
    "2. application layer (contains things like business logic, machine learning models)\n",
    "3. data layer: the database"
   ]
  },
  {
   "cell_type": "markdown",
   "metadata": {},
   "source": [
    "<img src=\"3tier_architecture.png\">  "
   ]
  },
  {
   "cell_type": "markdown",
   "metadata": {},
   "source": [
    "*source: Solution Architect's Handbook*"
   ]
  },
  {
   "cell_type": "markdown",
   "metadata": {},
   "source": [
    "The tiles represent components specific to Amazon Web Services (AWS), so let's unpack them:\n",
    "\n",
    "- EC2 comprises servers or *instances* as they call them. There is a set or fleet of instances to support the web layer\n",
    "and a separate set to support the application layer. These fleets can be scaled (removing or adding instances) as the job size changes; this type of scaling is called *horizontal scaling*.\n",
    "\n",
    "- Amazon RDS is a relational database service. It is good practice to maintain one or more backups for redundancy.\n",
    "Read replicas are common.\n",
    "\n",
    "- Amazon Route 53 is a DNS service that takes a web address like www.yahoo.com and maps it via a lookup table to its associated ip address.\n",
    "\n",
    "- Amazon S3 (simple storage service) is a data lake. Specifically it is an object store based on key-value pairs of data. This is a NoSQL database. It is very common to store all data in S3.\n",
    "\n",
    "We will look at other kinds of system architectures later in the course."
   ]
  },
  {
   "cell_type": "markdown",
   "metadata": {},
   "source": [
    "### Big Data System Process\n",
    "\n",
    "At a high level, the steps are:\n",
    "\n",
    "- Data Ingestion\n",
    "- Data Storage\n",
    "- Processing\n",
    "- Reporting\n",
    "\n",
    "We briefly discuss each of these steps."
   ]
  },
  {
   "cell_type": "markdown",
   "metadata": {},
   "source": [
    "#### Data Ingestion\n",
    "\n",
    "[fill in]"
   ]
  },
  {
   "cell_type": "markdown",
   "metadata": {},
   "source": [
    "#### Data Storage\n",
    "\n",
    "[fill in]"
   ]
  },
  {
   "cell_type": "markdown",
   "metadata": {},
   "source": [
    "#### Processing\n",
    "\n",
    "This is where our Spark work will fit\n",
    "\n",
    "[fill in]"
   ]
  },
  {
   "cell_type": "markdown",
   "metadata": {},
   "source": [
    "#### Reporting\n",
    "\n",
    "[fill in]"
   ]
  },
  {
   "cell_type": "code",
   "execution_count": null,
   "metadata": {},
   "outputs": [],
   "source": []
  }
 ],
 "metadata": {
  "anaconda-cloud": {},
  "kernelspec": {
   "display_name": "Python 3 (ipykernel)",
   "language": "python",
   "name": "python3"
  },
  "language_info": {
   "codemirror_mode": {
    "name": "ipython",
    "version": 3
   },
   "file_extension": ".py",
   "mimetype": "text/x-python",
   "name": "python",
   "nbconvert_exporter": "python",
   "pygments_lexer": "ipython3",
   "version": "3.9.12"
  }
 },
 "nbformat": 4,
 "nbformat_minor": 4
}
